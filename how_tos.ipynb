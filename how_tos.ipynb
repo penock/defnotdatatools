{
 "cells": [
  {
   "cell_type": "markdown",
   "metadata": {},
   "source": [
    "IPython HowTos\n",
    "========================================\n"
   ]
  },
  {
   "cell_type": "code",
   "execution_count": 1,
   "metadata": {},
   "outputs": [],
   "source": [
    "## Access IPython object directly\n",
    "ipython = get_ipython()"
   ]
  },
  {
   "cell_type": "code",
   "execution_count": 2,
   "metadata": {
    "collapsed": false,
    "jupyter": {
     "outputs_hidden": false
    }
   },
   "outputs": [
    {
     "name": "stdout",
     "output_type": "stream",
     "text": [
      "IPython is running\n"
     ]
    }
   ],
   "source": [
    "# detect if IPython is running (for use in .py files that may sometimes be imported or executed from IPython)\n",
    "try:\n",
    "    __IPYTHON__\n",
    "    print(\"IPython is running\")\n",
    "except NameError:\n",
    "    print(\"IPython is NOT running\")\n"
   ]
  },
  {
   "cell_type": "code",
   "execution_count": null,
   "metadata": {},
   "outputs": [],
   "source": [
    "## View source code of a class or function\n",
    "%psource ipython"
   ]
  },
  {
   "cell_type": "code",
   "execution_count": null,
   "metadata": {
    "collapsed": false,
    "jupyter": {
     "outputs_hidden": false
    }
   },
   "outputs": [],
   "source": [
    "In[1]  # Shows first input cell. Still confused about how to get specific output cells, but _ gets the most recent\n",
    "Out[3] # Shows the output of whatever In[3] was (not the third output)"
   ]
  },
  {
   "cell_type": "code",
   "execution_count": null,
   "metadata": {
    "collapsed": false,
    "jupyter": {
     "outputs_hidden": false
    }
   },
   "outputs": [],
   "source": [
    "### Use shell commands\n",
    "\n",
    "# Open a window of the current folder\n",
    "!explorer .\n",
    "\n",
    "# Open a window of a path you have in a variable DIR_TEMP... the Jupyter magic system needs the braces\n",
    "DIR_TEMP = r'C:\\Program Files'\n",
    "!explorer {DIR_TEMP}\n",
    "\n",
    "# Open file you just made with default program that opens it\n",
    "!fileyoujustmade.txt"
   ]
  },
  {
   "cell_type": "code",
   "execution_count": null,
   "metadata": {
    "collapsed": true,
    "jupyter": {
     "outputs_hidden": true
    }
   },
   "outputs": [],
   "source": [
    "## plotting config\n",
    "import matplotlib.pyplot as plt\n",
    "%matplotlib inline\n",
    "plt.style.use('seaborn-whitegrid')  # You can use seaborn style in just matplotlib!\n",
    "\n",
    "# This display fn outputs when you're not at last line of cell\n",
    "from IPython.display import display\n",
    "\n",
    "# Example of setting a global plt option\n",
    "# To see available rcParams, can type plt.rcParams, as it's a dict with info in there\n",
    "plt.rcParams['figure.figsize'] = (6, 4)"
   ]
  },
  {
   "cell_type": "markdown",
   "metadata": {},
   "source": [
    "pandas howTos\n",
    "========================================\n"
   ]
  },
  {
   "cell_type": "code",
   "execution_count": null,
   "metadata": {
    "collapsed": false,
    "jupyter": {
     "outputs_hidden": false
    }
   },
   "outputs": [],
   "source": [
    "### Creating a new df, with columns IN YOUR ORDER, is harder than it sounds. There are tons of wrong ways to do it.\n",
    "### see @penock's tutorial at https://gist.github.com/penock/19bb951ed65feef2762b\n"
   ]
  },
  {
   "cell_type": "code",
   "execution_count": null,
   "metadata": {
    "collapsed": true,
    "jupyter": {
     "outputs_hidden": true
    }
   },
   "outputs": [],
   "source": [
    "## Example of setting a *pandas* option, just for this IPython display line\n",
    "## Full list of pandas options at http://goo.gl/0P1xc9\n",
    "with pd.option_context('display.precision', 2):  # show df with just 2 decimal places\n",
    "    display(df)"
   ]
  }
 ],
 "metadata": {
  "kernelspec": {
   "display_name": "Python 3",
   "language": "python",
   "name": "python3"
  },
  "language_info": {
   "codemirror_mode": {
    "name": "ipython",
    "version": 3
   },
   "file_extension": ".py",
   "mimetype": "text/x-python",
   "name": "python",
   "nbconvert_exporter": "python",
   "pygments_lexer": "ipython3",
   "version": "3.7.4"
  }
 },
 "nbformat": 4,
 "nbformat_minor": 4
}
